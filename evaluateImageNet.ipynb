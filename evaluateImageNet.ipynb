{
 "cells": [
  {
   "cell_type": "code",
   "execution_count": 1,
   "id": "a8cd1f3b",
   "metadata": {},
   "outputs": [],
   "source": [
    "from torch.utils.data import Dataset, DataLoader\n",
    "from torchvision import transforms\n",
    "from torchvision.models import vgg16, resnet152, alexnet\n",
    "import torch\n",
    "\n",
    "import os\n",
    "import json\n",
    "from PIL import Image\n",
    "import numpy as np"
   ]
  },
  {
   "cell_type": "code",
   "execution_count": 2,
   "id": "7efa3c10",
   "metadata": {},
   "outputs": [
    {
     "name": "stdout",
     "output_type": "stream",
     "text": [
      "Using device: cpu\n"
     ]
    }
   ],
   "source": [
    "args = {\"batch_size\": 16}\n",
    "device = torch.device('cuda:0' if torch.cuda.is_available() else 'cpu')\n",
    "print('Using device:', device)"
   ]
  },
  {
   "cell_type": "code",
   "execution_count": 3,
   "id": "9131009f",
   "metadata": {},
   "outputs": [],
   "source": [
    "class ImageNetDataset(Dataset):\n",
    "    def __init__(self, image_dir, annotations_file, transformations = None, device = 'cpu'):\n",
    "        self.image_dir = image_dir\n",
    "        self.images = os.listdir(self.image_dir)\n",
    "        self.annotations = json.load(open(annotations_file))\n",
    "        self.transformations = transformations\n",
    "        self.device = device\n",
    "\n",
    "    def __len__(self):\n",
    "        return len(self.images)\n",
    "\n",
    "    def __getitem__(self, idx):\n",
    "        img_path = os.path.join(self.image_dir, self.images[idx])\n",
    "        img = Image.open(img_path).convert('RGB')\n",
    "        label = int(self.annotations[self.images[idx].split('.')[0]])\n",
    "        if self.transformations:\n",
    "            img = self.transformations(img)\n",
    "        img = img.to(self.device)\n",
    "        return img, label\n",
    "\n",
    "\n",
    "preprocessing = transforms.Compose([\n",
    "    transforms.Resize(256),\n",
    "    transforms.CenterCrop(224),\n",
    "    transforms.ToTensor(),\n",
    "    transforms.Normalize(mean=[0.485, 0.456, 0.406],\n",
    "                                 std=[0.229, 0.224, 0.225]),\n",
    "])\n",
    "imagenetValDataset = ImageNetDataset(image_dir = './data/imagenet/ILSVRC/Data/CLS-LOC/val/', \n",
    "                                    annotations_file='./data/imagenet/ILSVRC/imagnet_classes_val.json', \n",
    "                                    transformations=preprocessing, \n",
    "                                    device = device)\n",
    "\n",
    "imagenetValDataloader = torch.utils.data.DataLoader(imagenetValDataset, batch_size=args['batch_size'], shuffle=True)\n"
   ]
  },
  {
   "cell_type": "code",
   "execution_count": 4,
   "id": "4db858ea",
   "metadata": {},
   "outputs": [],
   "source": [
    "model = resnet152(pretrained = True)"
   ]
  },
  {
   "cell_type": "code",
   "execution_count": null,
   "id": "910b7b88",
   "metadata": {},
   "outputs": [
    {
     "name": "stdout",
     "output_type": "stream",
     "text": [
      "Evaluated 176/50000: Accuracy: 0.739\n"
     ]
    }
   ],
   "source": [
    "accuracy = 0\n",
    "count = 0\n",
    "for batch_idx, (img, label) in enumerate(imagenetValDataloader):\n",
    "    out = model(img).detach()\n",
    "    count += out.shape[0]\n",
    "    accuracy += np.sum((label == torch.argmax(out, dim = 1)).numpy()*1)\n",
    "    if(batch_idx == 10):\n",
    "        print(\"Evaluated {}/{}: Accuracy: {:.3f}\".format(str(count), \n",
    "                                                         str(len(imagenetValDataset)), float(accuracy)/count))"
   ]
  },
  {
   "cell_type": "code",
   "execution_count": null,
   "id": "6733ffd2",
   "metadata": {},
   "outputs": [],
   "source": []
  }
 ],
 "metadata": {
  "kernelspec": {
   "display_name": "Python 3 (ipykernel)",
   "language": "python",
   "name": "python3"
  },
  "language_info": {
   "codemirror_mode": {
    "name": "ipython",
    "version": 3
   },
   "file_extension": ".py",
   "mimetype": "text/x-python",
   "name": "python",
   "nbconvert_exporter": "python",
   "pygments_lexer": "ipython3",
   "version": "3.9.7"
  }
 },
 "nbformat": 4,
 "nbformat_minor": 5
}
