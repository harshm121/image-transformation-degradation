{
 "cells": [
  {
   "cell_type": "code",
   "execution_count": 3,
   "id": "bb2ec01d",
   "metadata": {},
   "outputs": [],
   "source": [
    "import streamlit as st\n",
    "import altair as alt\n",
    "import pandas as pd"
   ]
  },
  {
   "cell_type": "code",
   "execution_count": 4,
   "id": "1c96b7a0",
   "metadata": {},
   "outputs": [],
   "source": [
    "import json"
   ]
  },
  {
   "cell_type": "code",
   "execution_count": 5,
   "id": "2092f13d",
   "metadata": {},
   "outputs": [],
   "source": [
    "x = json.load(open('./data/imagenet/ILSVRC/Data/CLS-LOC/val_2p/imagnet_classes.json'))\n",
    "\n"
   ]
  },
  {
   "cell_type": "code",
   "execution_count": 57,
   "id": "de057851",
   "metadata": {},
   "outputs": [],
   "source": [
    "imgs = []\n",
    "for i in x:\n",
    "    if(x[i] == '66'):\n",
    "        imgs.append(i)"
   ]
  },
  {
   "cell_type": "code",
   "execution_count": 58,
   "id": "5b629164",
   "metadata": {},
   "outputs": [
    {
     "data": {
      "text/plain": [
       "['ILSVRC2012_val_00033749', 'ILSVRC2012_val_00005479']"
      ]
     },
     "execution_count": 58,
     "metadata": {},
     "output_type": "execute_result"
    }
   ],
   "source": [
    "imgs"
   ]
  },
  {
   "cell_type": "code",
   "execution_count": 14,
   "id": "c33ab348",
   "metadata": {},
   "outputs": [],
   "source": [
    "import shutil\n",
    "import os"
   ]
  },
  {
   "cell_type": "code",
   "execution_count": 15,
   "id": "1a07fc3b",
   "metadata": {},
   "outputs": [],
   "source": [
    "os.mkdir(\"./streamLitHelp\")"
   ]
  },
  {
   "cell_type": "code",
   "execution_count": 16,
   "id": "b71fe4ac",
   "metadata": {},
   "outputs": [],
   "source": [
    "os.mkdir(\"./streamLitHelp/images\")\n",
    "os.mkdir(\"./streamLitHelp/images/original\")\n",
    "os.mkdir(\"./streamLitHelp/images/rotate\")\n",
    "os.mkdir(\"./streamLitHelp/images/vert\")"
   ]
  },
  {
   "cell_type": "code",
   "execution_count": 66,
   "id": "749bc715",
   "metadata": {},
   "outputs": [],
   "source": [
    "os.mkdir(\"./streamLitHelp/images/hueP30\")"
   ]
  },
  {
   "cell_type": "code",
   "execution_count": 23,
   "id": "a7c5407d",
   "metadata": {},
   "outputs": [
    {
     "data": {
      "text/plain": [
       "'./streamLitHelp/images/original/ILSVRC2012_val_00045239.JPEG'"
      ]
     },
     "execution_count": 23,
     "metadata": {},
     "output_type": "execute_result"
    }
   ],
   "source": [
    "shutil.copy('./data/imagenet/ILSVRC/Data/CLS-LOC/val_2p/images/ILSVRC2012_val_00047455.JPEG', './streamLitHelp/images/original/')\n",
    "shutil.copy('./data/imagenet/ILSVRC/Data/CLS-LOC/val_2p/images/ILSVRC2012_val_00045239.JPEG', './streamLitHelp/images/original/')\n",
    "\n"
   ]
  },
  {
   "cell_type": "code",
   "execution_count": 67,
   "id": "2ae0539d",
   "metadata": {},
   "outputs": [],
   "source": [
    "for imgName in ['ILSVRC2012_val_00027433.JPEG', 'ILSVRC2012_val_00045239.JPEG', 'ILSVRC2012_val_00001172.JPEG', 'ILSVRC2012_val_00006001.JPEG']:\n",
    "    shutil.copy('/Users/harshmaheshwari/Downloads/vert_shift_0.25/'+imgName, './streamLitHelp/images/vert/')\n",
    "    shutil.copy('/Users/harshmaheshwari/Downloads/horz_shift_0.25/'+imgName, './streamLitHelp/images/horizontal/')\n",
    "    shutil.copy('/Users/harshmaheshwari/Downloads/rotate45/'+imgName, './streamLitHelp/images/rotate/')\n",
    "    shutil.copy('/Users/harshmaheshwari/Downloads/shuffle_quad/'+imgName, './streamLitHelp/images/shuffle_quad/')\n",
    "    shutil.copy('/Users/harshmaheshwari/Downloads/hsv_30_0_0/'+imgName, './streamLitHelp/images/hueP30/')\n",
    "    shutil.copy('./data/imagenet/ILSVRC/Data/CLS-LOC/val_2p/images/' + imgName, './streamLitHelp/images/original/')\n"
   ]
  },
  {
   "cell_type": "code",
   "execution_count": 64,
   "id": "4af8c3e7",
   "metadata": {},
   "outputs": [
    {
     "data": {
      "text/plain": [
       "'849'"
      ]
     },
     "execution_count": 64,
     "metadata": {},
     "output_type": "execute_result"
    }
   ],
   "source": [
    "x['ILSVRC2012_val_00006001']"
   ]
  },
  {
   "cell_type": "code",
   "execution_count": null,
   "id": "4a33856c",
   "metadata": {},
   "outputs": [],
   "source": []
  }
 ],
 "metadata": {
  "kernelspec": {
   "display_name": "bdsproject",
   "language": "python",
   "name": "bdsproject"
  },
  "language_info": {
   "codemirror_mode": {
    "name": "ipython",
    "version": 3
   },
   "file_extension": ".py",
   "mimetype": "text/x-python",
   "name": "python",
   "nbconvert_exporter": "python",
   "pygments_lexer": "ipython3",
   "version": "3.9.7"
  }
 },
 "nbformat": 4,
 "nbformat_minor": 5
}
