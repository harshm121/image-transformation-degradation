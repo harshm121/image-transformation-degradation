{
 "cells": [
  {
   "cell_type": "code",
   "execution_count": 1,
   "id": "empirical-determination",
   "metadata": {},
   "outputs": [],
   "source": [
    "import glob\n",
    "import numpy as np\n",
    "import shutil\n",
    "import os\n",
    "from tqdm import tqdm"
   ]
  },
  {
   "cell_type": "code",
   "execution_count": 2,
   "id": "studied-austin",
   "metadata": {},
   "outputs": [],
   "source": [
    "jpeg_list = sorted(glob.glob(\"./data/origin/ILSVRC2012_img_val/*.JPEG\"))\n",
    "xml_list = sorted(glob.glob(\"./data/origin/val/*.xml\"))\n",
    "dataset = list(zip(jpeg_list, xml_list))"
   ]
  },
  {
   "cell_type": "code",
   "execution_count": 3,
   "id": "covered-modification",
   "metadata": {},
   "outputs": [
    {
     "name": "stdout",
     "output_type": "stream",
     "text": [
      "Error: ./data/2p - No such file or directory.\n"
     ]
    }
   ],
   "source": [
    "try:\n",
    "    shutil.rmtree(\"./data/10p\")\n",
    "    shutil.rmtree(\"./data/2p\")\n",
    "except OSError as e:\n",
    "    print (\"Error: %s - %s.\" % (e.filename, e.strerror))"
   ]
  },
  {
   "cell_type": "code",
   "execution_count": 4,
   "id": "general-boxing",
   "metadata": {},
   "outputs": [],
   "source": [
    "def downsample(rate=0.1, folder=\"10p\"):\n",
    "    os.makedirs(\"./data/\"+folder+\"/images\")\n",
    "    os.makedirs(\"./data/\"+folder+\"/labels\")\n",
    "    np.random.seed(1885)\n",
    "    indices = np.random.choice(50000, int(50000*rate), replace=False)\n",
    "    for i in tqdm(indices):\n",
    "        jpeg_path, xml_path = dataset[i]\n",
    "        jpeg_name = jpeg_path.split(\"/\")[-1]\n",
    "        xml_name = xml_path.split(\"/\")[-1]\n",
    "        shutil.copyfile(jpeg_path, \"./data/\"+folder+\"/images/\"+jpeg_name)\n",
    "        shutil.copyfile(xml_path, \"./data/\"+folder+\"/labels/\"+xml_name)\n",
    "    print(\"total images copied\", len(glob.glob(\"./data/\"+folder+\"/images/*.JPEG\")))"
   ]
  },
  {
   "cell_type": "code",
   "execution_count": 5,
   "id": "radio-prevention",
   "metadata": {},
   "outputs": [
    {
     "name": "stderr",
     "output_type": "stream",
     "text": [
      "100%|██████████| 5000/5000 [00:07<00:00, 630.56it/s] "
     ]
    },
    {
     "name": "stdout",
     "output_type": "stream",
     "text": [
      "total images copied 5000\n"
     ]
    },
    {
     "name": "stderr",
     "output_type": "stream",
     "text": [
      "\n"
     ]
    }
   ],
   "source": [
    "downsample(0.1, \"10p\")"
   ]
  },
  {
   "cell_type": "code",
   "execution_count": 6,
   "id": "seventh-ancient",
   "metadata": {},
   "outputs": [
    {
     "name": "stderr",
     "output_type": "stream",
     "text": [
      "100%|██████████| 1000/1000 [00:01<00:00, 552.49it/s]"
     ]
    },
    {
     "name": "stdout",
     "output_type": "stream",
     "text": [
      "total images copied 1000\n"
     ]
    },
    {
     "name": "stderr",
     "output_type": "stream",
     "text": [
      "\n"
     ]
    }
   ],
   "source": [
    "downsample(0.02, \"2p\")"
   ]
  }
 ],
 "metadata": {
  "kernelspec": {
   "display_name": "Python 3",
   "language": "python",
   "name": "python3"
  },
  "language_info": {
   "codemirror_mode": {
    "name": "ipython",
    "version": 3
   },
   "file_extension": ".py",
   "mimetype": "text/x-python",
   "name": "python",
   "nbconvert_exporter": "python",
   "pygments_lexer": "ipython3",
   "version": "3.9.7"
  }
 },
 "nbformat": 4,
 "nbformat_minor": 5
}
