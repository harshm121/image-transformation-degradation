{
 "cells": [
  {
   "cell_type": "code",
   "execution_count": 4,
   "id": "5d39aceb",
   "metadata": {},
   "outputs": [],
   "source": [
    "import pandas as pd\n",
    "import json\n"
   ]
  },
  {
   "cell_type": "code",
   "execution_count": 18,
   "id": "3e4e2357",
   "metadata": {},
   "outputs": [],
   "source": [
    "results = json.load(open('./results.json'))"
   ]
  },
  {
   "cell_type": "code",
   "execution_count": 19,
   "id": "a646b84d",
   "metadata": {},
   "outputs": [],
   "source": [
    "df = pd.DataFrame(results)"
   ]
  },
  {
   "cell_type": "code",
   "execution_count": 21,
   "id": "3a6c7cc0",
   "metadata": {},
   "outputs": [],
   "source": [
    "top1Results = {}\n",
    "top5Results = {}\n",
    "for model in results:\n",
    "    top1Results[model] = {}\n",
    "    top5Results[model] = {}\n",
    "    for transformation in results[model]:\n",
    "        top1Results[model][transformation] = results[model][transformation][\"top1\"]\n",
    "        top5Results[model][transformation] = results[model][transformation][\"top5\"]"
   ]
  },
  {
   "cell_type": "code",
   "execution_count": 22,
   "id": "ed58b779",
   "metadata": {},
   "outputs": [],
   "source": [
    "df = pd.DataFrame(top1Results)"
   ]
  },
  {
   "cell_type": "code",
   "execution_count": 26,
   "id": "6b510bc0",
   "metadata": {},
   "outputs": [],
   "source": [
    "df.to_csv('./top1Results.csv')"
   ]
  },
  {
   "cell_type": "code",
   "execution_count": 27,
   "id": "a5706b9f",
   "metadata": {},
   "outputs": [],
   "source": [
    "df1 = pd.DataFrame(top5Results)"
   ]
  },
  {
   "cell_type": "code",
   "execution_count": 28,
   "id": "73e59dee",
   "metadata": {},
   "outputs": [],
   "source": [
    "df1.to_csv('./top5Results.csv')"
   ]
  },
  {
   "cell_type": "code",
   "execution_count": null,
   "id": "42f02140",
   "metadata": {},
   "outputs": [],
   "source": []
  }
 ],
 "metadata": {
  "kernelspec": {
   "display_name": "bdsproject",
   "language": "python",
   "name": "bdsproject"
  },
  "language_info": {
   "codemirror_mode": {
    "name": "ipython",
    "version": 3
   },
   "file_extension": ".py",
   "mimetype": "text/x-python",
   "name": "python",
   "nbconvert_exporter": "python",
   "pygments_lexer": "ipython3",
   "version": "3.9.7"
  }
 },
 "nbformat": 4,
 "nbformat_minor": 5
}
