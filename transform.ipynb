{
 "cells": [
  {
   "cell_type": "code",
   "execution_count": 1,
   "id": "empirical-determination",
   "metadata": {},
   "outputs": [],
   "source": [
    "import glob\n",
    "import numpy as np\n",
    "import shutil\n",
    "import os\n",
    "import cv2 as cv\n",
    "from tqdm import tqdm"
   ]
  },
  {
   "cell_type": "code",
   "execution_count": 2,
   "id": "studied-austin",
   "metadata": {},
   "outputs": [
    {
     "name": "stdout",
     "output_type": "stream",
     "text": [
      "./data/2p/images\\ILSVRC2012_val_00000107.JPEG\n"
     ]
    }
   ],
   "source": [
    "jpeg_list = sorted(glob.glob(\"./data/2p/images/*.JPEG\"))\n",
    "print(jpeg_list[0])"
   ]
  },
  {
   "cell_type": "code",
   "execution_count": 3,
   "id": "biblical-alignment",
   "metadata": {},
   "outputs": [],
   "source": [
    "def foo(img):\n",
    "    return img"
   ]
  },
  {
   "cell_type": "code",
   "execution_count": 4,
   "id": "general-boxing",
   "metadata": {},
   "outputs": [],
   "source": [
    "def transform(func=foo, folder=\"transform\"):\n",
    "    output_folder = \"./data/2p/transform/\"+folder\n",
    "    try:\n",
    "        shutil.rmtree(output_folder)\n",
    "    except OSError as e:\n",
    "        print (\"Error: %s - %s.\" % (e.filename, e.strerror))\n",
    "    os.makedirs(output_folder)\n",
    "    \n",
    "    np.random.seed(1885)\n",
    "    \n",
    "    for jpeg_path in tqdm(jpeg_list):\n",
    "        img = cv.imread(jpeg_path)\n",
    "        new_img = func(img)\n",
    "        jpeg_name = jpeg_path.split(\"\\\\\")[-1]\n",
    "        cv.imwrite(output_folder+\"/\"+jpeg_name, new_img)"
   ]
  },
  {
   "cell_type": "code",
   "execution_count": 5,
   "id": "reflected-attribute",
   "metadata": {},
   "outputs": [],
   "source": [
    "def rotate(deg=45):\n",
    "    def foo(img):\n",
    "        (rows,cols,d) = img.shape\n",
    "        M = cv.getRotationMatrix2D(((cols-1)/2.0,(rows-1)/2.0),deg,1)\n",
    "        dst = cv.warpAffine(img,M,(cols,rows))\n",
    "        return dst\n",
    "    return foo"
   ]
  },
  {
   "cell_type": "code",
   "execution_count": 6,
   "id": "earlier-minneapolis",
   "metadata": {},
   "outputs": [
    {
     "name": "stderr",
     "output_type": "stream",
     "text": [
      "100%|██████████████████████████████████████████████████████████████████████████████| 1000/1000 [00:11<00:00, 86.68it/s]\n"
     ]
    }
   ],
   "source": [
    "transform(rotate(5), folder=\"rotate5\")"
   ]
  },
  {
   "cell_type": "code",
   "execution_count": 7,
   "id": "infectious-insider",
   "metadata": {},
   "outputs": [
    {
     "name": "stderr",
     "output_type": "stream",
     "text": [
      "100%|██████████████████████████████████████████████████████████████████████████████| 1000/1000 [00:11<00:00, 89.22it/s]\n"
     ]
    }
   ],
   "source": [
    "transform(rotate(15), folder=\"rotate15\")"
   ]
  },
  {
   "cell_type": "code",
   "execution_count": 8,
   "id": "radio-prevention",
   "metadata": {},
   "outputs": [
    {
     "name": "stderr",
     "output_type": "stream",
     "text": [
      "100%|██████████████████████████████████████████████████████████████████████████████| 1000/1000 [00:11<00:00, 90.21it/s]\n"
     ]
    }
   ],
   "source": [
    "transform(rotate(45), folder=\"rotate45\")"
   ]
  },
  {
   "cell_type": "code",
   "execution_count": 9,
   "id": "subtle-cambridge",
   "metadata": {},
   "outputs": [],
   "source": [
    "def randRotate(low, high):\n",
    "    def foo(img):\n",
    "        deg = np.random.uniform(low,high)\n",
    "        (rows,cols,d) = img.shape\n",
    "        M = cv.getRotationMatrix2D(((cols-1)/2.0,(rows-1)/2.0),deg,1)\n",
    "        dst = cv.warpAffine(img,M,(cols,rows))\n",
    "        return dst\n",
    "    return foo"
   ]
  },
  {
   "cell_type": "code",
   "execution_count": 10,
   "id": "bacterial-appearance",
   "metadata": {},
   "outputs": [
    {
     "name": "stderr",
     "output_type": "stream",
     "text": [
      "100%|██████████████████████████████████████████████████████████████████████████████| 1000/1000 [00:11<00:00, 83.80it/s]\n"
     ]
    }
   ],
   "source": [
    "transform(randRotate(1,10), folder=\"randRotate_1_10\")"
   ]
  },
  {
   "cell_type": "code",
   "execution_count": 11,
   "id": "neutral-remark",
   "metadata": {},
   "outputs": [
    {
     "name": "stderr",
     "output_type": "stream",
     "text": [
      "100%|██████████████████████████████████████████████████████████████████████████████| 1000/1000 [00:12<00:00, 78.68it/s]\n"
     ]
    }
   ],
   "source": [
    "transform(randRotate(1,20), folder=\"randRotate_1_20\")"
   ]
  },
  {
   "cell_type": "code",
   "execution_count": 12,
   "id": "discrete-energy",
   "metadata": {
    "scrolled": true
   },
   "outputs": [
    {
     "name": "stderr",
     "output_type": "stream",
     "text": [
      "100%|██████████████████████████████████████████████████████████████████████████████| 1000/1000 [00:11<00:00, 89.63it/s]\n"
     ]
    }
   ],
   "source": [
    "transform(randRotate(10,20), folder=\"randRotate_10_20\")"
   ]
  },
  {
   "cell_type": "code",
   "execution_count": 13,
   "id": "floating-glossary",
   "metadata": {},
   "outputs": [
    {
     "name": "stderr",
     "output_type": "stream",
     "text": [
      "100%|██████████████████████████████████████████████████████████████████████████████| 1000/1000 [00:11<00:00, 89.79it/s]\n"
     ]
    }
   ],
   "source": [
    "transform(randRotate(1,45), folder=\"randRotate_1_45\")"
   ]
  },
  {
   "cell_type": "code",
   "execution_count": 14,
   "id": "acoustic-gateway",
   "metadata": {},
   "outputs": [],
   "source": [
    "def AGthreshold(img):\n",
    "    img = cv.cvtColor(img, cv.COLOR_BGR2GRAY)\n",
    "    img = cv.medianBlur(img, 5)\n",
    "    img = cv.adaptiveThreshold(img,255,cv.ADAPTIVE_THRESH_GAUSSIAN_C,\\\n",
    "            cv.THRESH_BINARY,11,2)\n",
    "    return img"
   ]
  },
  {
   "cell_type": "code",
   "execution_count": 15,
   "id": "standard-religion",
   "metadata": {},
   "outputs": [
    {
     "name": "stderr",
     "output_type": "stream",
     "text": [
      "100%|██████████████████████████████████████████████████████████████████████████████| 1000/1000 [00:10<00:00, 93.54it/s]\n"
     ]
    }
   ],
   "source": [
    "transform(AGthreshold, folder=\"AGthreshold\")"
   ]
  },
  {
   "cell_type": "code",
   "execution_count": 16,
   "id": "swiss-relationship",
   "metadata": {},
   "outputs": [],
   "source": [
    "def blur(rad=3):\n",
    "    def foo(img):\n",
    "        return cv.GaussianBlur(img,(rad,rad),0)\n",
    "    return foo"
   ]
  },
  {
   "cell_type": "code",
   "execution_count": 17,
   "id": "interpreted-april",
   "metadata": {},
   "outputs": [
    {
     "name": "stderr",
     "output_type": "stream",
     "text": [
      "100%|██████████████████████████████████████████████████████████████████████████████| 1000/1000 [00:10<00:00, 95.56it/s]\n"
     ]
    }
   ],
   "source": [
    "transform(blur(3), folder=\"blur3\")"
   ]
  },
  {
   "cell_type": "code",
   "execution_count": 18,
   "id": "phantom-office",
   "metadata": {},
   "outputs": [
    {
     "name": "stderr",
     "output_type": "stream",
     "text": [
      "100%|██████████████████████████████████████████████████████████████████████████████| 1000/1000 [00:10<00:00, 93.85it/s]\n"
     ]
    }
   ],
   "source": [
    "transform(blur(5), folder=\"blur5\")"
   ]
  },
  {
   "cell_type": "code",
   "execution_count": 19,
   "id": "recorded-spectrum",
   "metadata": {},
   "outputs": [],
   "source": [
    "def bilateralFilter(d=9, sc=75, ss=75):\n",
    "    def foo(img):\n",
    "        return cv.bilateralFilter(img,d,sc,ss)\n",
    "    return foo"
   ]
  },
  {
   "cell_type": "code",
   "execution_count": 20,
   "id": "coral-butler",
   "metadata": {},
   "outputs": [
    {
     "name": "stderr",
     "output_type": "stream",
     "text": [
      "100%|██████████████████████████████████████████████████████████████████████████████| 1000/1000 [00:16<00:00, 59.36it/s]\n"
     ]
    }
   ],
   "source": [
    "transform(bilateralFilter(9,75,75), folder=\"bilateralFilter_9_75_75\")"
   ]
  },
  {
   "cell_type": "code",
   "execution_count": 21,
   "id": "every-israel",
   "metadata": {},
   "outputs": [
    {
     "name": "stderr",
     "output_type": "stream",
     "text": [
      "100%|██████████████████████████████████████████████████████████████████████████████| 1000/1000 [00:12<00:00, 82.05it/s]\n"
     ]
    }
   ],
   "source": [
    "transform(bilateralFilter(5,75,75), folder=\"bilateralFilter_5_75_75\")"
   ]
  },
  {
   "cell_type": "code",
   "execution_count": 22,
   "id": "indoor-opposition",
   "metadata": {
    "scrolled": true
   },
   "outputs": [
    {
     "name": "stderr",
     "output_type": "stream",
     "text": [
      "100%|██████████████████████████████████████████████████████████████████████████████| 1000/1000 [00:16<00:00, 60.20it/s]\n"
     ]
    }
   ],
   "source": [
    "transform(bilateralFilter(9,150,150), folder=\"bilateralFilter_9_150_150\")"
   ]
  },
  {
   "cell_type": "code",
   "execution_count": 23,
   "id": "tutorial-stroke",
   "metadata": {},
   "outputs": [],
   "source": [
    "# a = [1-3]\n",
    "# b = [0-100]\n",
    "def cb(a, b):\n",
    "    def foo(img):\n",
    "        return cv.convertScaleAbs(img, alpha=a, beta=b)\n",
    "    return foo"
   ]
  },
  {
   "cell_type": "code",
   "execution_count": 24,
   "id": "indirect-frequency",
   "metadata": {},
   "outputs": [
    {
     "name": "stderr",
     "output_type": "stream",
     "text": [
      "100%|██████████████████████████████████████████████████████████████████████████████| 1000/1000 [00:10<00:00, 92.99it/s]\n"
     ]
    }
   ],
   "source": [
    "transform(cb(2,50), folder=\"cb_2_50\")"
   ]
  },
  {
   "cell_type": "code",
   "execution_count": 25,
   "id": "following-trail",
   "metadata": {},
   "outputs": [
    {
     "name": "stderr",
     "output_type": "stream",
     "text": [
      "100%|██████████████████████████████████████████████████████████████████████████████| 1000/1000 [00:10<00:00, 93.58it/s]\n"
     ]
    }
   ],
   "source": [
    "transform(cb(2,0), folder=\"cb_2_0\")"
   ]
  },
  {
   "cell_type": "code",
   "execution_count": 26,
   "id": "civic-experiment",
   "metadata": {},
   "outputs": [
    {
     "name": "stderr",
     "output_type": "stream",
     "text": [
      "100%|██████████████████████████████████████████████████████████████████████████████| 1000/1000 [00:10<00:00, 92.42it/s]\n"
     ]
    }
   ],
   "source": [
    "transform(cb(2,-50), folder=\"cb_2_m50\")"
   ]
  },
  {
   "cell_type": "code",
   "execution_count": 27,
   "id": "worthy-criterion",
   "metadata": {},
   "outputs": [
    {
     "name": "stderr",
     "output_type": "stream",
     "text": [
      "100%|██████████████████████████████████████████████████████████████████████████████| 1000/1000 [00:10<00:00, 96.58it/s]\n"
     ]
    }
   ],
   "source": [
    "transform(cb(0.5,-50), folder=\"cb_0.5_m50\")"
   ]
  },
  {
   "cell_type": "code",
   "execution_count": 28,
   "id": "directed-scout",
   "metadata": {},
   "outputs": [
    {
     "name": "stderr",
     "output_type": "stream",
     "text": [
      "100%|██████████████████████████████████████████████████████████████████████████████| 1000/1000 [00:10<00:00, 96.64it/s]\n"
     ]
    }
   ],
   "source": [
    "transform(cb(0.5,50), folder=\"cb_0.5_50\")"
   ]
  },
  {
   "cell_type": "code",
   "execution_count": 29,
   "id": "threaded-bidding",
   "metadata": {},
   "outputs": [],
   "source": [
    "def invert(img):\n",
    "    return (255-img)"
   ]
  },
  {
   "cell_type": "code",
   "execution_count": 30,
   "id": "supposed-short",
   "metadata": {},
   "outputs": [
    {
     "name": "stderr",
     "output_type": "stream",
     "text": [
      "100%|██████████████████████████████████████████████████████████████████████████████| 1000/1000 [00:10<00:00, 91.50it/s]\n"
     ]
    }
   ],
   "source": [
    "transform(invert, folder=\"invert\")"
   ]
  },
  {
   "cell_type": "code",
   "execution_count": 31,
   "id": "raising-partner",
   "metadata": {},
   "outputs": [],
   "source": [
    "def changeHSV(dh=60, ds=0, dv=0):\n",
    "    def foo(img):\n",
    "        h, s, v = cv.split(cv.cvtColor(img, cv.COLOR_BGR2HSV))\n",
    "        \n",
    "        hnew = (cv.add(h, dh)) % 180\n",
    "#         print(np.min(hnew), np.max(hnew))\n",
    "        snew = cv.add(s, ds)\n",
    "        vnew = cv.add(v, dv)\n",
    "\n",
    "        # combine new hue with s and v\n",
    "        hsvnew = cv.merge([hnew, snew, vnew])\n",
    "\n",
    "        # convert from HSV to BGR\n",
    "        result = cv.cvtColor(hsvnew, cv.COLOR_HSV2BGR)\n",
    "        return result\n",
    "    return foo"
   ]
  },
  {
   "cell_type": "code",
   "execution_count": 32,
   "id": "agreed-sport",
   "metadata": {},
   "outputs": [
    {
     "name": "stderr",
     "output_type": "stream",
     "text": [
      "100%|██████████████████████████████████████████████████████████████████████████████| 1000/1000 [00:13<00:00, 76.00it/s]\n"
     ]
    }
   ],
   "source": [
    "transform(changeHSV(-30,0,0), folder=\"hsv_m30_0_0\")"
   ]
  },
  {
   "cell_type": "code",
   "execution_count": 33,
   "id": "wooden-hawaii",
   "metadata": {},
   "outputs": [
    {
     "name": "stderr",
     "output_type": "stream",
     "text": [
      "100%|██████████████████████████████████████████████████████████████████████████████| 1000/1000 [00:13<00:00, 72.66it/s]\n"
     ]
    }
   ],
   "source": [
    "transform(changeHSV(30,0,0), folder=\"hsv_30_0_0\")"
   ]
  },
  {
   "cell_type": "code",
   "execution_count": 34,
   "id": "labeled-childhood",
   "metadata": {},
   "outputs": [
    {
     "name": "stderr",
     "output_type": "stream",
     "text": [
      "100%|██████████████████████████████████████████████████████████████████████████████| 1000/1000 [00:12<00:00, 77.37it/s]\n"
     ]
    }
   ],
   "source": [
    "transform(changeHSV(60,0,0), folder=\"hsv_60_0_0\")"
   ]
  },
  {
   "cell_type": "code",
   "execution_count": 35,
   "id": "detailed-boring",
   "metadata": {},
   "outputs": [
    {
     "name": "stderr",
     "output_type": "stream",
     "text": [
      "100%|██████████████████████████████████████████████████████████████████████████████| 1000/1000 [00:12<00:00, 77.03it/s]\n"
     ]
    }
   ],
   "source": [
    "transform(changeHSV(120,0,0), folder=\"hsv_120_0_0\")"
   ]
  },
  {
   "cell_type": "code",
   "execution_count": 36,
   "id": "ruled-airfare",
   "metadata": {},
   "outputs": [
    {
     "name": "stderr",
     "output_type": "stream",
     "text": [
      "100%|██████████████████████████████████████████████████████████████████████████████| 1000/1000 [00:13<00:00, 76.30it/s]\n"
     ]
    }
   ],
   "source": [
    "transform(changeHSV(180,0,0), folder=\"hsv_180_0_0\")"
   ]
  },
  {
   "cell_type": "code",
   "execution_count": 37,
   "id": "preliminary-agreement",
   "metadata": {},
   "outputs": [
    {
     "name": "stderr",
     "output_type": "stream",
     "text": [
      "100%|██████████████████████████████████████████████████████████████████████████████| 1000/1000 [00:13<00:00, 75.33it/s]\n"
     ]
    }
   ],
   "source": [
    "transform(changeHSV(0,20,0), folder=\"hsv_0_20_0\")"
   ]
  },
  {
   "cell_type": "code",
   "execution_count": 38,
   "id": "suffering-referral",
   "metadata": {},
   "outputs": [
    {
     "name": "stderr",
     "output_type": "stream",
     "text": [
      "100%|██████████████████████████████████████████████████████████████████████████████| 1000/1000 [00:13<00:00, 73.79it/s]\n"
     ]
    }
   ],
   "source": [
    "transform(changeHSV(0,-20,0), folder=\"hsv_0_m20_0\")"
   ]
  },
  {
   "cell_type": "code",
   "execution_count": 39,
   "id": "neural-physiology",
   "metadata": {},
   "outputs": [
    {
     "name": "stderr",
     "output_type": "stream",
     "text": [
      "100%|██████████████████████████████████████████████████████████████████████████████| 1000/1000 [00:13<00:00, 75.00it/s]\n"
     ]
    }
   ],
   "source": [
    "transform(changeHSV(0,0,20), folder=\"hsv_0_0_20\")"
   ]
  },
  {
   "cell_type": "code",
   "execution_count": 40,
   "id": "level-sound",
   "metadata": {},
   "outputs": [
    {
     "name": "stderr",
     "output_type": "stream",
     "text": [
      "100%|██████████████████████████████████████████████████████████████████████████████| 1000/1000 [00:13<00:00, 76.00it/s]\n"
     ]
    }
   ],
   "source": [
    "transform(changeHSV(0,0,-20), folder=\"hsv_0_0_m20\")"
   ]
  },
  {
   "cell_type": "code",
   "execution_count": 41,
   "id": "controlled-neighborhood",
   "metadata": {},
   "outputs": [],
   "source": [
    "def shear(sx=0, sy=0):\n",
    "    def foo(img):\n",
    "        rows, cols, dim = img.shape\n",
    "        M = np.float32([[1, sx, 0],\n",
    "                        [sy, 1, 0],\n",
    "                        [0, 0, 1]])                \n",
    "        return cv.warpPerspective(img,M,(cols, rows))\n",
    "    return foo"
   ]
  },
  {
   "cell_type": "code",
   "execution_count": 42,
   "id": "sapphire-bobby",
   "metadata": {},
   "outputs": [
    {
     "name": "stderr",
     "output_type": "stream",
     "text": [
      "100%|██████████████████████████████████████████████████████████████████████████████| 1000/1000 [00:11<00:00, 90.38it/s]\n"
     ]
    }
   ],
   "source": [
    "transform(shear(0.5, 0), folder=\"shear_0.5_0\")"
   ]
  },
  {
   "cell_type": "code",
   "execution_count": 43,
   "id": "covered-hybrid",
   "metadata": {},
   "outputs": [
    {
     "name": "stderr",
     "output_type": "stream",
     "text": [
      "100%|██████████████████████████████████████████████████████████████████████████████| 1000/1000 [00:10<00:00, 91.11it/s]\n"
     ]
    }
   ],
   "source": [
    "transform(shear(0, 0.5), folder=\"shear_0_0.5\")"
   ]
  },
  {
   "cell_type": "code",
   "execution_count": 44,
   "id": "former-worcester",
   "metadata": {},
   "outputs": [],
   "source": [
    "def shuffle_quad(img):\n",
    "    rows, cols, dim = img.shape\n",
    "    half_x = int(cols/2)\n",
    "    half_y = int(rows/2)\n",
    "    new_img = img.copy()\n",
    "    new_img[:half_y, : :], new_img[half_y:, :, :] = img[rows-half_y:, :, :], img[:rows-half_y, :, :]\n",
    "    new_img_2 = new_img.copy()\n",
    "    new_img_2[:, :half_x, :], new_img_2[:, half_x:, :] = new_img[:, cols-half_x:, :], new_img[:, :cols-half_x, :]\n",
    "    return new_img_2"
   ]
  },
  {
   "cell_type": "code",
   "execution_count": 45,
   "id": "broke-purple",
   "metadata": {},
   "outputs": [
    {
     "name": "stderr",
     "output_type": "stream",
     "text": [
      "100%|██████████████████████████████████████████████████████████████████████████████| 1000/1000 [00:11<00:00, 83.55it/s]\n"
     ]
    }
   ],
   "source": [
    "transform(shuffle_quad, folder=\"shuffle_quad\")"
   ]
  },
  {
   "cell_type": "code",
   "execution_count": 46,
   "id": "civil-handling",
   "metadata": {},
   "outputs": [],
   "source": [
    "def shuffle_quad_rand(img):\n",
    "    rows, cols, dim = img.shape\n",
    "    half_x = int(cols/2)\n",
    "    half_y = int(rows/2)\n",
    "    quads = [img[:half_y, :half_x, :], img[:half_y, -half_x:, :], img[-half_y:, :half_x, :], img[-half_y:, -half_x:, :]]\n",
    "    np.random.shuffle(quads)\n",
    "    new_img = img.copy()\n",
    "    new_img[:half_y, :half_x, :] = quads[0]\n",
    "    new_img[:half_y, -half_x:, :] = quads[1]\n",
    "    new_img[-half_y:, :half_x, :] = quads[2]\n",
    "    new_img[-half_y:, -half_x:, :] = quads[3]\n",
    "    return new_img"
   ]
  },
  {
   "cell_type": "code",
   "execution_count": 47,
   "id": "instant-kidney",
   "metadata": {},
   "outputs": [
    {
     "name": "stderr",
     "output_type": "stream",
     "text": [
      "100%|██████████████████████████████████████████████████████████████████████████████| 1000/1000 [00:11<00:00, 90.90it/s]\n"
     ]
    }
   ],
   "source": [
    "transform(shuffle_quad_rand, folder=\"shuffle_quad_rand\")"
   ]
  },
  {
   "cell_type": "code",
   "execution_count": 48,
   "id": "defined-cosmetic",
   "metadata": {},
   "outputs": [],
   "source": [
    "def horz_shift(ratio):\n",
    "    def foo(img):\n",
    "        rows, cols, dim = img.shape\n",
    "        half_x = int(cols*ratio)\n",
    "        new_img = img.copy()\n",
    "        new_img[:, :half_x, :], new_img[:, half_x:, :] = img[:, cols-half_x:, :], img[:, :cols-half_x, :]\n",
    "        return new_img\n",
    "    return foo"
   ]
  },
  {
   "cell_type": "code",
   "execution_count": 49,
   "id": "invisible-morgan",
   "metadata": {
    "scrolled": true
   },
   "outputs": [
    {
     "name": "stderr",
     "output_type": "stream",
     "text": [
      "  1%|▋                                                                                | 8/1000 [00:00<00:12, 79.66it/s]"
     ]
    },
    {
     "name": "stdout",
     "output_type": "stream",
     "text": [
      "Error: ./data/2p/transform/horz_shift_0.5 - The system cannot find the path specified.\n"
     ]
    },
    {
     "name": "stderr",
     "output_type": "stream",
     "text": [
      "100%|██████████████████████████████████████████████████████████████████████████████| 1000/1000 [00:11<00:00, 87.62it/s]\n"
     ]
    }
   ],
   "source": [
    "transform(horz_shift(0.5), folder=\"horz_shift_0.5\")"
   ]
  },
  {
   "cell_type": "code",
   "execution_count": 50,
   "id": "active-crystal",
   "metadata": {},
   "outputs": [
    {
     "name": "stderr",
     "output_type": "stream",
     "text": [
      "100%|██████████████████████████████████████████████████████████████████████████████| 1000/1000 [00:11<00:00, 90.43it/s]\n"
     ]
    }
   ],
   "source": [
    "transform(horz_shift(0.25), folder=\"horz_shift_0.25\")"
   ]
  },
  {
   "cell_type": "code",
   "execution_count": 51,
   "id": "blond-kruger",
   "metadata": {},
   "outputs": [],
   "source": [
    "def vert_shift(ratio):\n",
    "    def foo(img):\n",
    "        rows, cols, dim = img.shape\n",
    "        half_y = int(rows*ratio)\n",
    "        new_img = img.copy()\n",
    "        new_img[:half_y, : :], new_img[half_y:, :, :] = img[rows-half_y:, :, :], img[:rows-half_y, :, :]\n",
    "        return new_img\n",
    "    return foo"
   ]
  },
  {
   "cell_type": "code",
   "execution_count": 52,
   "id": "minimal-focus",
   "metadata": {},
   "outputs": [
    {
     "name": "stderr",
     "output_type": "stream",
     "text": [
      "100%|██████████████████████████████████████████████████████████████████████████████| 1000/1000 [00:40<00:00, 24.51it/s]\n"
     ]
    }
   ],
   "source": [
    "transform(vert_shift(0.5), folder=\"vert_shift_0.5\")"
   ]
  },
  {
   "cell_type": "code",
   "execution_count": 53,
   "id": "collective-market",
   "metadata": {},
   "outputs": [
    {
     "name": "stderr",
     "output_type": "stream",
     "text": [
      "100%|██████████████████████████████████████████████████████████████████████████████| 1000/1000 [00:11<00:00, 89.87it/s]\n"
     ]
    }
   ],
   "source": [
    "transform(vert_shift(0.25), folder=\"vert_shift_0.25\")"
   ]
  },
  {
   "cell_type": "code",
   "execution_count": null,
   "id": "flush-choir",
   "metadata": {},
   "outputs": [],
   "source": []
  }
 ],
 "metadata": {
  "kernelspec": {
   "display_name": "Python 3",
   "language": "python",
   "name": "python3"
  },
  "language_info": {
   "codemirror_mode": {
    "name": "ipython",
    "version": 3
   },
   "file_extension": ".py",
   "mimetype": "text/x-python",
   "name": "python",
   "nbconvert_exporter": "python",
   "pygments_lexer": "ipython3",
   "version": "3.8.5"
  }
 },
 "nbformat": 4,
 "nbformat_minor": 5
}
